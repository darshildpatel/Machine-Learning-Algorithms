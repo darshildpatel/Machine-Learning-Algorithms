{
 "cells": [
  {
   "cell_type": "code",
   "execution_count": 3,
   "metadata": {},
   "outputs": [
    {
     "name": "stdout",
     "output_type": "stream",
     "text": [
      "the posterior probability that the mice are from Location A\n",
      "0.11051463067281637\n"
     ]
    }
   ],
   "source": [
    "import math\n",
    "\n",
    "x = [9.3,8.8,9.8]\n",
    "meanA = 9.2\n",
    "meanB = 9.6\n",
    "varA = 1.6\n",
    "varB = 1.2\n",
    "pA = 0.2\n",
    "pB = 0.8\n",
    "\n",
    "# x = [9.2,8.9,9.9]\n",
    "# meanA = 9.6\n",
    "# meanB = 9.2\n",
    "# varA = 1.6\n",
    "# varB = 1.8\n",
    "# pA = 2/3\n",
    "# pB = 1/3\n",
    "\n",
    "def likelihood(mean, variance, x):\n",
    "    a = pow(2.718281,(-pow(x-mean,2))/(2*pow(variance,2)))\n",
    "    b = (math.sqrt(44*pow(variance,2)/7))\n",
    "    return a/b\n",
    "\n",
    "\n",
    "def numerator(p, mean, var):\n",
    "    num = 1\n",
    "    for i in x:\n",
    "        num = num * likelihood(mean, var, i)\n",
    "                   \n",
    "    return p*num\n",
    "                   \n",
    "def denominator():\n",
    "    main = 0\n",
    "    main = main + numerator(pA, meanA, varA)\n",
    "    main = main + numerator(pB, meanB, varB)\n",
    "    return main\n",
    "                   \n",
    "print(\"the posterior probability that the mice are from Location A\")\n",
    "print(numerator(pA, meanA, varA)/denominator())                   \n",
    "#likelihood(9.2, 1.6, 9.3)"
   ]
  },
  {
   "cell_type": "code",
   "execution_count": 23,
   "metadata": {},
   "outputs": [
    {
     "name": "stdout",
     "output_type": "stream",
     "text": [
      "ML Hypothesis\n",
      "0.013968566712839782\n",
      "0.028106766601623073\n"
     ]
    }
   ],
   "source": [
    "print(\"ML Hypothesis\")\n",
    "print(numerator(pA, meanA, varA)/pA)\n",
    "print(numerator(pB, meanB, varB)/pB)"
   ]
  },
  {
   "cell_type": "code",
   "execution_count": null,
   "metadata": {},
   "outputs": [],
   "source": []
  }
 ],
 "metadata": {
  "kernelspec": {
   "display_name": "Python 3",
   "language": "python",
   "name": "python3"
  },
  "language_info": {
   "codemirror_mode": {
    "name": "ipython",
    "version": 3
   },
   "file_extension": ".py",
   "mimetype": "text/x-python",
   "name": "python",
   "nbconvert_exporter": "python",
   "pygments_lexer": "ipython3",
   "version": "3.6.5"
  }
 },
 "nbformat": 4,
 "nbformat_minor": 2
}
